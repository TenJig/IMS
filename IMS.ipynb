{
  "nbformat": 4,
  "nbformat_minor": 0,
  "metadata": {
    "colab": {
      "name": "IMS.ipynb",
      "provenance": [],
      "collapsed_sections": []
    },
    "kernelspec": {
      "name": "python3",
      "display_name": "Python 3"
    },
    "language_info": {
      "name": "python"
    }
  },
  "cells": [
    {
      "cell_type": "code",
      "metadata": {
        "id": "ARQ0CpZXdPFb"
      },
      "source": [
        "fd= open('Records.txt','r')\n",
        "txt=fd.read()\n",
        "fd.close()"
      ],
      "execution_count": 47,
      "outputs": []
    },
    {
      "cell_type": "code",
      "metadata": {
        "colab": {
          "base_uri": "https://localhost:8080/"
        },
        "id": "yeKkJz0tgcIa",
        "outputId": "4bbd9687-1b16-45c0-f66c-288a4b7b42f6"
      },
      "source": [
        "products = txt.split(\"\\n\")\n",
        "\n",
        "ui_prod=str(input(\"Enter the prodcut ID: \"))\n",
        "ui_quan=int(input(\"Enter the quantity: \"))\n",
        "\n",
        "for i in products:\n",
        "  prod=i.split(\",\")\n",
        "   \n",
        "  if (ui_prod == prod[0]):\n",
        "     print(\"**********************\")\n",
        "     print(\"Product ID: \",prod[0])\n",
        "     print(\"Prod name: \",prod[1])\n",
        "     print(\"Prod type: \",prod[4])\n",
        "     print(\"Prod price: \",prod[2])\n",
        "     print(\"Quant: \",ui_quan)\n",
        "     print(\"--------------------------\")\n",
        "     print(\"Billing Amount:\",int(prod[2]) * ui_quan)\n",
        "     print(\"**************************\")"
      ],
      "execution_count": 53,
      "outputs": [
        {
          "output_type": "stream",
          "name": "stdout",
          "text": [
            "Enter the prodcut ID: 1001\n",
            "Enter the quantity: 2\n",
            "**********************\n",
            "Product ID:  1001\n",
            "Prod name:  Pepsi\n",
            "Prod type:  Drinks\n",
            "Prod price:  30\n",
            "Quant:  2\n",
            "--------------------------\n",
            "Billing Amount: 60\n",
            "**************************\n"
          ]
        }
      ]
    },
    {
      "cell_type": "code",
      "metadata": {
        "colab": {
          "base_uri": "https://localhost:8080/"
        },
        "id": "5THmPvcn73yu",
        "outputId": "7b7d2df4-359e-401b-860f-b0d5e0500d17"
      },
      "source": [
        "products"
      ],
      "execution_count": 54,
      "outputs": [
        {
          "output_type": "execute_result",
          "data": {
            "text/plain": [
              "['1001,Pepsi,30,100,Drinks',\n",
              " '1002,Coke,30,100,Drinks',\n",
              " '1003,Chocolate,10,100,Sweets',\n",
              " '1004,White Bread,50,100,Bread',\n",
              " '1005,Kinley,20,50,Drinking water',\n",
              " '1006,Iphone11,50000,10,Phone',\n",
              " '1007,TV,10000,10,Television',\n",
              " '1008,Nothing,5999,10,EarPhone',\n",
              " '1009,Airpods1,10000,10,Earphone',\n",
              " '1010,Bisleri,20,50,Drinking water',\n",
              " '1011,Aquafina,20,50,Drinking water',\n",
              " '1012,Slice,30,50,Juice',\n",
              " '1013,Towels,100,50,Towel',\n",
              " '1014,Sleepwell,2000,10,Beds',\n",
              " '1015,Elina,98,50,Rice',\n",
              " '1016,ToorDal,50,10,Dal',\n",
              " '1017,Durex,110,100,Condom',\n",
              " '1018,Lays,20,100,Snacks',\n",
              " '1019,Kurkere,20,100,Snacks',\n",
              " '1020,Bingo,30,100,Snacks',\n",
              " '1021,PotatoChips,20,100,Snacks',\n",
              " '1022,Casio,1000,10,Calculator',\n",
              " '1023,JBL,9999,10,BluettoothSpeaker',\n",
              " '1024,Rubik,400,10,RubikCube',\n",
              " '1025,Palento,100,20,Mug',\n",
              " '1026,NgawangKollegal,50,100,Chilli',\n",
              " '1027,Gangjong,100,50,Chilli',\n",
              " '1028,Laphing,50,100,Snacks',\n",
              " '1029,Momo,80,50,Food',\n",
              " '1030,Mortein,50,50,Plug']"
            ]
          },
          "metadata": {},
          "execution_count": 54
        }
      ]
    },
    {
      "cell_type": "code",
      "metadata": {
        "id": "0EqTDhmVgzwu"
      },
      "source": [
        "new_record = []\n",
        "\n",
        "for product in products:\n",
        "  prod = product.split(\",\")\n",
        "  if(ui_prod == prod[0]):\n",
        "    prod[3] = str(int(prod[3]) - ui_quan)\n",
        "   \n",
        "  new_record.append(prod[0] + \",\" + prod[1] + \",\" + prod[2] + \",\" + prod[3]) \n",
        "  \n",
        "new_record[-1]=new_record[-1][:-1]"
      ],
      "execution_count": 59,
      "outputs": []
    },
    {
      "cell_type": "code",
      "metadata": {
        "colab": {
          "base_uri": "https://localhost:8080/"
        },
        "id": "V_RSLTo880za",
        "outputId": "6ee383e4-3b92-46e4-df11-47f492702d79"
      },
      "source": [
        "new_record"
      ],
      "execution_count": 60,
      "outputs": [
        {
          "output_type": "execute_result",
          "data": {
            "text/plain": [
              "['1001,Pepsi,30,98',\n",
              " '1002,Coke,30,100',\n",
              " '1003,Chocolate,10,100',\n",
              " '1004,White Bread,50,100',\n",
              " '1005,Kinley,20,50',\n",
              " '1006,Iphone11,50000,10',\n",
              " '1007,TV,10000,10',\n",
              " '1008,Nothing,5999,10',\n",
              " '1009,Airpods1,10000,10',\n",
              " '1010,Bisleri,20,50',\n",
              " '1011,Aquafina,20,50',\n",
              " '1012,Slice,30,50',\n",
              " '1013,Towels,100,50',\n",
              " '1014,Sleepwell,2000,10',\n",
              " '1015,Elina,98,50',\n",
              " '1016,ToorDal,50,10',\n",
              " '1017,Durex,110,100',\n",
              " '1018,Lays,20,100',\n",
              " '1019,Kurkere,20,100',\n",
              " '1020,Bingo,30,100',\n",
              " '1021,PotatoChips,20,100',\n",
              " '1022,Casio,1000,10',\n",
              " '1023,JBL,9999,10',\n",
              " '1024,Rubik,400,10',\n",
              " '1025,Palento,100,20',\n",
              " '1026,NgawangKollegal,50,100',\n",
              " '1027,Gangjong,100,50',\n",
              " '1028,Laphing,50,100',\n",
              " '1029,Momo,80,50',\n",
              " '1030,Mortein,50,5']"
            ]
          },
          "metadata": {},
          "execution_count": 60
        }
      ]
    },
    {
      "cell_type": "code",
      "metadata": {
        "id": "rTfI3T3T33SF"
      },
      "source": [
        "fd = open(\"Records.txt\",'w')\n",
        "for i in new_record:\n",
        "  fd.write(i)\n",
        "fd.close()"
      ],
      "execution_count": 57,
      "outputs": []
    },
    {
      "cell_type": "code",
      "metadata": {
        "id": "4O2xhbyf7g2z"
      },
      "source": [
        ""
      ],
      "execution_count": null,
      "outputs": []
    }
  ]
}